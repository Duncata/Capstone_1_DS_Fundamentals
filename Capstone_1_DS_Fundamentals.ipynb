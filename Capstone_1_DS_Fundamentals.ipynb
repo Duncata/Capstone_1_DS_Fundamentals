{
  "nbformat": 4,
  "nbformat_minor": 0,
  "metadata": {
    "colab": {
      "name": "Captone1.ipynb",
      "version": "0.3.2",
      "provenance": [],
      "collapsed_sections": [],
      "include_colab_link": true
    },
    "kernelspec": {
      "name": "python3",
      "display_name": "Python 3"
    },
    "accelerator": "GPU"
  },
  "cells": [
    {
      "cell_type": "markdown",
      "metadata": {
        "id": "view-in-github",
        "colab_type": "text"
      },
      "source": [
        "<a href=\"https://colab.research.google.com/github/Duncata/Capstone_1_DS_Fundamentals/blob/master/Capstone_1_DS_Fundamentals.ipynb\" target=\"_parent\"><img src=\"https://colab.research.google.com/assets/colab-badge.svg\" alt=\"Open In Colab\"/></a>"
      ]
    },
    {
      "cell_type": "markdown",
      "metadata": {
        "id": "zvEUjs2KcK0M",
        "colab_type": "text"
      },
      "source": [
        "## Leading Causes of Death in United States \n",
        "### Metadata Updated: February 28, 2019\n",
        "\n",
        "This dataset presents the age-adjusted death rates for the 10 leading causes of death in the United States beginning in 1999. Data are based on information from all resident death certificates filed in the 50 states and the District of Columbia using demographic and medical characteristics. Age-adjusted death rates (per 100,000 population) are based on the 2000 U.S. standard population. Populations used for computing death rates after 2010 are postcensal estimates based on the 2010 census, estimated as of July 1, 2010. Rates for census years are based on populations enumerated in the corresponding censuses. Rates for non-census years before 2010 are revised using updated intercensal population estimates and may differ from rates previously published. This data is recorded by the CDC(Center for Disease and Control Prevention), NCHS(National Center for Health Statistic) and National Vital Statistics System\n",
        "\n",
        "The 19 specific age groups (younger than 1 year, 1–4 years, 5–9 years, 10–14 years, 15–19 years, … 85 years and older); This provide the basis for adjusting for differences in the age distributions across groups defined by sex, race, geography, or other categories.\n",
        "\n",
        "The data is from Data.gov under Healthcare. This data is recorded by the CDC(Center for Disease and Control Prevention), NCHS(National Center for Health Statistic) and National Vital Statistics System. I choose this data because I have a background in nursing and engineering. This data is about the ten leading cause of death from year 1999 to 2016. It has 6 column and about 10,000 rows. The columns are the Year, 113 Cause Name, Cause Name, State, Deaths, Age Adjusted Death Rate.\n",
        "\n",
        "(See http://www.cdc.gov/nchs/deaths.htm. , \n",
        "https://www.cdc.gov/nchs/data_access/vitalstatsonline.htm. ,\n",
        "https://www.cdc.gov/nchs/data/nvsr/nvsr66/nvsr66_06.pdf.)\n",
        "\n"
      ]
    },
    {
      "cell_type": "markdown",
      "metadata": {
        "id": "Vsmj_vUl7eb8",
        "colab_type": "text"
      },
      "source": [
        "\n",
        "\n",
        "---------------------------------------------------------------------------------------------------------------------------------------------------------------------------------------\n",
        "\n"
      ]
    },
    {
      "cell_type": "markdown",
      "metadata": {
        "id": "3cbuBt_wwj6t",
        "colab_type": "text"
      },
      "source": [
        "### QUESTION:\n",
        "\n",
        "1. What disease cause the highest death from year 1999 to 2016?\n",
        "2. What year recorded the highest death in all States?\n",
        "3. What State has the highest Death?\n",
        "4. Find the number of deaths per disease in all US State?"
      ]
    },
    {
      "cell_type": "markdown",
      "metadata": {
        "id": "HR33pwFNcZU_",
        "colab_type": "text"
      },
      "source": [
        "* **Import Packages**"
      ]
    },
    {
      "cell_type": "code",
      "metadata": {
        "id": "mrxdySuBd9Ss",
        "colab_type": "code",
        "colab": {}
      },
      "source": [
        "import pandas as pd\n",
        "import numpy as np\n",
        "import matplotlib\n",
        "import matplotlib.pyplot as plt\n",
        "import scipy.stats\n",
        "\n",
        "%matplotlib inline\n",
        "\n",
        "\n"
      ],
      "execution_count": 0,
      "outputs": []
    },
    {
      "cell_type": "markdown",
      "metadata": {
        "id": "SSPWg8o9ZJ6V",
        "colab_type": "text"
      },
      "source": [
        "\n",
        "\n",
        "*   **Upload Data**\n",
        "\n"
      ]
    },
    {
      "cell_type": "code",
      "metadata": {
        "id": "QV190XCLp7DE",
        "colab_type": "code",
        "colab": {}
      },
      "source": [
        "from google.colab import files\n",
        "\n"
      ],
      "execution_count": 0,
      "outputs": []
    },
    {
      "cell_type": "code",
      "metadata": {
        "id": "r3aqX8zSlKuO",
        "colab_type": "code",
        "outputId": "5bb9eee5-c0f5-400c-9b6c-cfe4ee29a449",
        "colab": {
          "resources": {
            "http://localhost:8080/nbextensions/google.colab/files.js": {
              "data": "Ly8gQ29weXJpZ2h0IDIwMTcgR29vZ2xlIExMQwovLwovLyBMaWNlbnNlZCB1bmRlciB0aGUgQXBhY2hlIExpY2Vuc2UsIFZlcnNpb24gMi4wICh0aGUgIkxpY2Vuc2UiKTsKLy8geW91IG1heSBub3QgdXNlIHRoaXMgZmlsZSBleGNlcHQgaW4gY29tcGxpYW5jZSB3aXRoIHRoZSBMaWNlbnNlLgovLyBZb3UgbWF5IG9idGFpbiBhIGNvcHkgb2YgdGhlIExpY2Vuc2UgYXQKLy8KLy8gICAgICBodHRwOi8vd3d3LmFwYWNoZS5vcmcvbGljZW5zZXMvTElDRU5TRS0yLjAKLy8KLy8gVW5sZXNzIHJlcXVpcmVkIGJ5IGFwcGxpY2FibGUgbGF3IG9yIGFncmVlZCB0byBpbiB3cml0aW5nLCBzb2Z0d2FyZQovLyBkaXN0cmlidXRlZCB1bmRlciB0aGUgTGljZW5zZSBpcyBkaXN0cmlidXRlZCBvbiBhbiAiQVMgSVMiIEJBU0lTLAovLyBXSVRIT1VUIFdBUlJBTlRJRVMgT1IgQ09ORElUSU9OUyBPRiBBTlkgS0lORCwgZWl0aGVyIGV4cHJlc3Mgb3IgaW1wbGllZC4KLy8gU2VlIHRoZSBMaWNlbnNlIGZvciB0aGUgc3BlY2lmaWMgbGFuZ3VhZ2UgZ292ZXJuaW5nIHBlcm1pc3Npb25zIGFuZAovLyBsaW1pdGF0aW9ucyB1bmRlciB0aGUgTGljZW5zZS4KCi8qKgogKiBAZmlsZW92ZXJ2aWV3IEhlbHBlcnMgZm9yIGdvb2dsZS5jb2xhYiBQeXRob24gbW9kdWxlLgogKi8KKGZ1bmN0aW9uKHNjb3BlKSB7CmZ1bmN0aW9uIHNwYW4odGV4dCwgc3R5bGVBdHRyaWJ1dGVzID0ge30pIHsKICBjb25zdCBlbGVtZW50ID0gZG9jdW1lbnQuY3JlYXRlRWxlbWVudCgnc3BhbicpOwogIGVsZW1lbnQudGV4dENvbnRlbnQgPSB0ZXh0OwogIGZvciAoY29uc3Qga2V5IG9mIE9iamVjdC5rZXlzKHN0eWxlQXR0cmlidXRlcykpIHsKICAgIGVsZW1lbnQuc3R5bGVba2V5XSA9IHN0eWxlQXR0cmlidXRlc1trZXldOwogIH0KICByZXR1cm4gZWxlbWVudDsKfQoKLy8gTWF4IG51bWJlciBvZiBieXRlcyB3aGljaCB3aWxsIGJlIHVwbG9hZGVkIGF0IGEgdGltZS4KY29uc3QgTUFYX1BBWUxPQURfU0laRSA9IDEwMCAqIDEwMjQ7Ci8vIE1heCBhbW91bnQgb2YgdGltZSB0byBibG9jayB3YWl0aW5nIGZvciB0aGUgdXNlci4KY29uc3QgRklMRV9DSEFOR0VfVElNRU9VVF9NUyA9IDMwICogMTAwMDsKCmZ1bmN0aW9uIF91cGxvYWRGaWxlcyhpbnB1dElkLCBvdXRwdXRJZCkgewogIGNvbnN0IHN0ZXBzID0gdXBsb2FkRmlsZXNTdGVwKGlucHV0SWQsIG91dHB1dElkKTsKICBjb25zdCBvdXRwdXRFbGVtZW50ID0gZG9jdW1lbnQuZ2V0RWxlbWVudEJ5SWQob3V0cHV0SWQpOwogIC8vIENhY2hlIHN0ZXBzIG9uIHRoZSBvdXRwdXRFbGVtZW50IHRvIG1ha2UgaXQgYXZhaWxhYmxlIGZvciB0aGUgbmV4dCBjYWxsCiAgLy8gdG8gdXBsb2FkRmlsZXNDb250aW51ZSBmcm9tIFB5dGhvbi4KICBvdXRwdXRFbGVtZW50LnN0ZXBzID0gc3RlcHM7CgogIHJldHVybiBfdXBsb2FkRmlsZXNDb250aW51ZShvdXRwdXRJZCk7Cn0KCi8vIFRoaXMgaXMgcm91Z2hseSBhbiBhc3luYyBnZW5lcmF0b3IgKG5vdCBzdXBwb3J0ZWQgaW4gdGhlIGJyb3dzZXIgeWV0KSwKLy8gd2hlcmUgdGhlcmUgYXJlIG11bHRpcGxlIGFzeW5jaHJvbm91cyBzdGVwcyBhbmQgdGhlIFB5dGhvbiBzaWRlIGlzIGdvaW5nCi8vIHRvIHBvbGwgZm9yIGNvbXBsZXRpb24gb2YgZWFjaCBzdGVwLgovLyBUaGlzIHVzZXMgYSBQcm9taXNlIHRvIGJsb2NrIHRoZSBweXRob24gc2lkZSBvbiBjb21wbGV0aW9uIG9mIGVhY2ggc3RlcCwKLy8gdGhlbiBwYXNzZXMgdGhlIHJlc3VsdCBvZiB0aGUgcHJldmlvdXMgc3RlcCBhcyB0aGUgaW5wdXQgdG8gdGhlIG5leHQgc3RlcC4KZnVuY3Rpb24gX3VwbG9hZEZpbGVzQ29udGludWUob3V0cHV0SWQpIHsKICBjb25zdCBvdXRwdXRFbGVtZW50ID0gZG9jdW1lbnQuZ2V0RWxlbWVudEJ5SWQob3V0cHV0SWQpOwogIGNvbnN0IHN0ZXBzID0gb3V0cHV0RWxlbWVudC5zdGVwczsKCiAgY29uc3QgbmV4dCA9IHN0ZXBzLm5leHQob3V0cHV0RWxlbWVudC5sYXN0UHJvbWlzZVZhbHVlKTsKICByZXR1cm4gUHJvbWlzZS5yZXNvbHZlKG5leHQudmFsdWUucHJvbWlzZSkudGhlbigodmFsdWUpID0+IHsKICAgIC8vIENhY2hlIHRoZSBsYXN0IHByb21pc2UgdmFsdWUgdG8gbWFrZSBpdCBhdmFpbGFibGUgdG8gdGhlIG5leHQKICAgIC8vIHN0ZXAgb2YgdGhlIGdlbmVyYXRvci4KICAgIG91dHB1dEVsZW1lbnQubGFzdFByb21pc2VWYWx1ZSA9IHZhbHVlOwogICAgcmV0dXJuIG5leHQudmFsdWUucmVzcG9uc2U7CiAgfSk7Cn0KCi8qKgogKiBHZW5lcmF0b3IgZnVuY3Rpb24gd2hpY2ggaXMgY2FsbGVkIGJldHdlZW4gZWFjaCBhc3luYyBzdGVwIG9mIHRoZSB1cGxvYWQKICogcHJvY2Vzcy4KICogQHBhcmFtIHtzdHJpbmd9IGlucHV0SWQgRWxlbWVudCBJRCBvZiB0aGUgaW5wdXQgZmlsZSBwaWNrZXIgZWxlbWVudC4KICogQHBhcmFtIHtzdHJpbmd9IG91dHB1dElkIEVsZW1lbnQgSUQgb2YgdGhlIG91dHB1dCBkaXNwbGF5LgogKiBAcmV0dXJuIHshSXRlcmFibGU8IU9iamVjdD59IEl0ZXJhYmxlIG9mIG5leHQgc3RlcHMuCiAqLwpmdW5jdGlvbiogdXBsb2FkRmlsZXNTdGVwKGlucHV0SWQsIG91dHB1dElkKSB7CiAgY29uc3QgaW5wdXRFbGVtZW50ID0gZG9jdW1lbnQuZ2V0RWxlbWVudEJ5SWQoaW5wdXRJZCk7CiAgaW5wdXRFbGVtZW50LmRpc2FibGVkID0gZmFsc2U7CgogIGNvbnN0IG91dHB1dEVsZW1lbnQgPSBkb2N1bWVudC5nZXRFbGVtZW50QnlJZChvdXRwdXRJZCk7CiAgb3V0cHV0RWxlbWVudC5pbm5lckhUTUwgPSAnJzsKCiAgY29uc3QgcGlja2VkUHJvbWlzZSA9IG5ldyBQcm9taXNlKChyZXNvbHZlKSA9PiB7CiAgICBpbnB1dEVsZW1lbnQuYWRkRXZlbnRMaXN0ZW5lcignY2hhbmdlJywgKGUpID0+IHsKICAgICAgcmVzb2x2ZShlLnRhcmdldC5maWxlcyk7CiAgICB9KTsKICB9KTsKCiAgY29uc3QgY2FuY2VsID0gZG9jdW1lbnQuY3JlYXRlRWxlbWVudCgnYnV0dG9uJyk7CiAgaW5wdXRFbGVtZW50LnBhcmVudEVsZW1lbnQuYXBwZW5kQ2hpbGQoY2FuY2VsKTsKICBjYW5jZWwudGV4dENvbnRlbnQgPSAnQ2FuY2VsIHVwbG9hZCc7CiAgY29uc3QgY2FuY2VsUHJvbWlzZSA9IG5ldyBQcm9taXNlKChyZXNvbHZlKSA9PiB7CiAgICBjYW5jZWwub25jbGljayA9ICgpID0+IHsKICAgICAgcmVzb2x2ZShudWxsKTsKICAgIH07CiAgfSk7CgogIC8vIENhbmNlbCB1cGxvYWQgaWYgdXNlciBoYXNuJ3QgcGlja2VkIGFueXRoaW5nIGluIHRpbWVvdXQuCiAgY29uc3QgdGltZW91dFByb21pc2UgPSBuZXcgUHJvbWlzZSgocmVzb2x2ZSkgPT4gewogICAgc2V0VGltZW91dCgoKSA9PiB7CiAgICAgIHJlc29sdmUobnVsbCk7CiAgICB9LCBGSUxFX0NIQU5HRV9USU1FT1VUX01TKTsKICB9KTsKCiAgLy8gV2FpdCBmb3IgdGhlIHVzZXIgdG8gcGljayB0aGUgZmlsZXMuCiAgY29uc3QgZmlsZXMgPSB5aWVsZCB7CiAgICBwcm9taXNlOiBQcm9taXNlLnJhY2UoW3BpY2tlZFByb21pc2UsIHRpbWVvdXRQcm9taXNlLCBjYW5jZWxQcm9taXNlXSksCiAgICByZXNwb25zZTogewogICAgICBhY3Rpb246ICdzdGFydGluZycsCiAgICB9CiAgfTsKCiAgaWYgKCFmaWxlcykgewogICAgcmV0dXJuIHsKICAgICAgcmVzcG9uc2U6IHsKICAgICAgICBhY3Rpb246ICdjb21wbGV0ZScsCiAgICAgIH0KICAgIH07CiAgfQoKICBjYW5jZWwucmVtb3ZlKCk7CgogIC8vIERpc2FibGUgdGhlIGlucHV0IGVsZW1lbnQgc2luY2UgZnVydGhlciBwaWNrcyBhcmUgbm90IGFsbG93ZWQuCiAgaW5wdXRFbGVtZW50LmRpc2FibGVkID0gdHJ1ZTsKCiAgZm9yIChjb25zdCBmaWxlIG9mIGZpbGVzKSB7CiAgICBjb25zdCBsaSA9IGRvY3VtZW50LmNyZWF0ZUVsZW1lbnQoJ2xpJyk7CiAgICBsaS5hcHBlbmQoc3BhbihmaWxlLm5hbWUsIHtmb250V2VpZ2h0OiAnYm9sZCd9KSk7CiAgICBsaS5hcHBlbmQoc3BhbigKICAgICAgICBgKCR7ZmlsZS50eXBlIHx8ICduL2EnfSkgLSAke2ZpbGUuc2l6ZX0gYnl0ZXMsIGAgKwogICAgICAgIGBsYXN0IG1vZGlmaWVkOiAkewogICAgICAgICAgICBmaWxlLmxhc3RNb2RpZmllZERhdGUgPyBmaWxlLmxhc3RNb2RpZmllZERhdGUudG9Mb2NhbGVEYXRlU3RyaW5nKCkgOgogICAgICAgICAgICAgICAgICAgICAgICAgICAgICAgICAgICAnbi9hJ30gLSBgKSk7CiAgICBjb25zdCBwZXJjZW50ID0gc3BhbignMCUgZG9uZScpOwogICAgbGkuYXBwZW5kQ2hpbGQocGVyY2VudCk7CgogICAgb3V0cHV0RWxlbWVudC5hcHBlbmRDaGlsZChsaSk7CgogICAgY29uc3QgZmlsZURhdGFQcm9taXNlID0gbmV3IFByb21pc2UoKHJlc29sdmUpID0+IHsKICAgICAgY29uc3QgcmVhZGVyID0gbmV3IEZpbGVSZWFkZXIoKTsKICAgICAgcmVhZGVyLm9ubG9hZCA9IChlKSA9PiB7CiAgICAgICAgcmVzb2x2ZShlLnRhcmdldC5yZXN1bHQpOwogICAgICB9OwogICAgICByZWFkZXIucmVhZEFzQXJyYXlCdWZmZXIoZmlsZSk7CiAgICB9KTsKICAgIC8vIFdhaXQgZm9yIHRoZSBkYXRhIHRvIGJlIHJlYWR5LgogICAgbGV0IGZpbGVEYXRhID0geWllbGQgewogICAgICBwcm9taXNlOiBmaWxlRGF0YVByb21pc2UsCiAgICAgIHJlc3BvbnNlOiB7CiAgICAgICAgYWN0aW9uOiAnY29udGludWUnLAogICAgICB9CiAgICB9OwoKICAgIC8vIFVzZSBhIGNodW5rZWQgc2VuZGluZyB0byBhdm9pZCBtZXNzYWdlIHNpemUgbGltaXRzLiBTZWUgYi82MjExNTY2MC4KICAgIGxldCBwb3NpdGlvbiA9IDA7CiAgICB3aGlsZSAocG9zaXRpb24gPCBmaWxlRGF0YS5ieXRlTGVuZ3RoKSB7CiAgICAgIGNvbnN0IGxlbmd0aCA9IE1hdGgubWluKGZpbGVEYXRhLmJ5dGVMZW5ndGggLSBwb3NpdGlvbiwgTUFYX1BBWUxPQURfU0laRSk7CiAgICAgIGNvbnN0IGNodW5rID0gbmV3IFVpbnQ4QXJyYXkoZmlsZURhdGEsIHBvc2l0aW9uLCBsZW5ndGgpOwogICAgICBwb3NpdGlvbiArPSBsZW5ndGg7CgogICAgICBjb25zdCBiYXNlNjQgPSBidG9hKFN0cmluZy5mcm9tQ2hhckNvZGUuYXBwbHkobnVsbCwgY2h1bmspKTsKICAgICAgeWllbGQgewogICAgICAgIHJlc3BvbnNlOiB7CiAgICAgICAgICBhY3Rpb246ICdhcHBlbmQnLAogICAgICAgICAgZmlsZTogZmlsZS5uYW1lLAogICAgICAgICAgZGF0YTogYmFzZTY0LAogICAgICAgIH0sCiAgICAgIH07CiAgICAgIHBlcmNlbnQudGV4dENvbnRlbnQgPQogICAgICAgICAgYCR7TWF0aC5yb3VuZCgocG9zaXRpb24gLyBmaWxlRGF0YS5ieXRlTGVuZ3RoKSAqIDEwMCl9JSBkb25lYDsKICAgIH0KICB9CgogIC8vIEFsbCBkb25lLgogIHlpZWxkIHsKICAgIHJlc3BvbnNlOiB7CiAgICAgIGFjdGlvbjogJ2NvbXBsZXRlJywKICAgIH0KICB9Owp9CgpzY29wZS5nb29nbGUgPSBzY29wZS5nb29nbGUgfHwge307CnNjb3BlLmdvb2dsZS5jb2xhYiA9IHNjb3BlLmdvb2dsZS5jb2xhYiB8fCB7fTsKc2NvcGUuZ29vZ2xlLmNvbGFiLl9maWxlcyA9IHsKICBfdXBsb2FkRmlsZXMsCiAgX3VwbG9hZEZpbGVzQ29udGludWUsCn07Cn0pKHNlbGYpOwo=",
              "ok": true,
              "headers": [
                [
                  "content-type",
                  "application/javascript"
                ]
              ],
              "status": 200,
              "status_text": ""
            }
          },
          "base_uri": "https://localhost:8080/",
          "height": 75
        }
      },
      "source": [
        "uploaded = files.upload()"
      ],
      "execution_count": 113,
      "outputs": [
        {
          "output_type": "display_data",
          "data": {
            "text/html": [
              "\n",
              "     <input type=\"file\" id=\"files-f881caac-25c7-4cf9-a6d2-366139be6989\" name=\"files[]\" multiple disabled />\n",
              "     <output id=\"result-f881caac-25c7-4cf9-a6d2-366139be6989\">\n",
              "      Upload widget is only available when the cell has been executed in the\n",
              "      current browser session. Please rerun this cell to enable.\n",
              "      </output>\n",
              "      <script src=\"/nbextensions/google.colab/files.js\"></script> "
            ],
            "text/plain": [
              "<IPython.core.display.HTML object>"
            ]
          },
          "metadata": {
            "tags": []
          }
        },
        {
          "output_type": "stream",
          "text": [
            "Saving NCHS_-_Leading_Causes_of_Death__United_States.csv to NCHS_-_Leading_Causes_of_Death__United_States (5).csv\n"
          ],
          "name": "stdout"
        }
      ]
    },
    {
      "cell_type": "markdown",
      "metadata": {
        "id": "2U93jIXosz_H",
        "colab_type": "text"
      },
      "source": [
        "## Exploring the Dataset"
      ]
    },
    {
      "cell_type": "markdown",
      "metadata": {
        "id": "m0xwk2vQKygZ",
        "colab_type": "text"
      },
      "source": [
        "* **Read csv data into dataframe **"
      ]
    },
    {
      "cell_type": "code",
      "metadata": {
        "id": "M5ASlBZtcYVd",
        "colab_type": "code",
        "outputId": "a9afd20a-8fa0-48ee-fdd9-581c11f2091b",
        "colab": {
          "base_uri": "https://localhost:8080/",
          "height": 203
        }
      },
      "source": [
        "df_LCDUS= pd.read_csv('NCHS_-_Leading_Causes_of_Death__United_States.csv')\n",
        "df_LCDUS.head()"
      ],
      "execution_count": 114,
      "outputs": [
        {
          "output_type": "execute_result",
          "data": {
            "text/html": [
              "<div>\n",
              "<style scoped>\n",
              "    .dataframe tbody tr th:only-of-type {\n",
              "        vertical-align: middle;\n",
              "    }\n",
              "\n",
              "    .dataframe tbody tr th {\n",
              "        vertical-align: top;\n",
              "    }\n",
              "\n",
              "    .dataframe thead th {\n",
              "        text-align: right;\n",
              "    }\n",
              "</style>\n",
              "<table border=\"1\" class=\"dataframe\">\n",
              "  <thead>\n",
              "    <tr style=\"text-align: right;\">\n",
              "      <th></th>\n",
              "      <th>Year</th>\n",
              "      <th>113 Cause Name</th>\n",
              "      <th>Cause Name</th>\n",
              "      <th>State</th>\n",
              "      <th>Deaths</th>\n",
              "      <th>Age-adjusted Death Rate</th>\n",
              "    </tr>\n",
              "  </thead>\n",
              "  <tbody>\n",
              "    <tr>\n",
              "      <th>0</th>\n",
              "      <td>2016</td>\n",
              "      <td>Accidents (unintentional injuries) (V01-X59,Y8...</td>\n",
              "      <td>Unintentional injuries</td>\n",
              "      <td>Alabama</td>\n",
              "      <td>2755</td>\n",
              "      <td>55.5</td>\n",
              "    </tr>\n",
              "    <tr>\n",
              "      <th>1</th>\n",
              "      <td>2016</td>\n",
              "      <td>Accidents (unintentional injuries) (V01-X59,Y8...</td>\n",
              "      <td>Unintentional injuries</td>\n",
              "      <td>Alaska</td>\n",
              "      <td>439</td>\n",
              "      <td>63.1</td>\n",
              "    </tr>\n",
              "    <tr>\n",
              "      <th>2</th>\n",
              "      <td>2016</td>\n",
              "      <td>Accidents (unintentional injuries) (V01-X59,Y8...</td>\n",
              "      <td>Unintentional injuries</td>\n",
              "      <td>Arizona</td>\n",
              "      <td>4010</td>\n",
              "      <td>54.2</td>\n",
              "    </tr>\n",
              "    <tr>\n",
              "      <th>3</th>\n",
              "      <td>2016</td>\n",
              "      <td>Accidents (unintentional injuries) (V01-X59,Y8...</td>\n",
              "      <td>Unintentional injuries</td>\n",
              "      <td>Arkansas</td>\n",
              "      <td>1604</td>\n",
              "      <td>51.8</td>\n",
              "    </tr>\n",
              "    <tr>\n",
              "      <th>4</th>\n",
              "      <td>2016</td>\n",
              "      <td>Accidents (unintentional injuries) (V01-X59,Y8...</td>\n",
              "      <td>Unintentional injuries</td>\n",
              "      <td>California</td>\n",
              "      <td>13213</td>\n",
              "      <td>32.0</td>\n",
              "    </tr>\n",
              "  </tbody>\n",
              "</table>\n",
              "</div>"
            ],
            "text/plain": [
              "   Year                                     113 Cause Name  \\\n",
              "0  2016  Accidents (unintentional injuries) (V01-X59,Y8...   \n",
              "1  2016  Accidents (unintentional injuries) (V01-X59,Y8...   \n",
              "2  2016  Accidents (unintentional injuries) (V01-X59,Y8...   \n",
              "3  2016  Accidents (unintentional injuries) (V01-X59,Y8...   \n",
              "4  2016  Accidents (unintentional injuries) (V01-X59,Y8...   \n",
              "\n",
              "               Cause Name       State  Deaths  Age-adjusted Death Rate  \n",
              "0  Unintentional injuries     Alabama    2755                     55.5  \n",
              "1  Unintentional injuries      Alaska     439                     63.1  \n",
              "2  Unintentional injuries     Arizona    4010                     54.2  \n",
              "3  Unintentional injuries    Arkansas    1604                     51.8  \n",
              "4  Unintentional injuries  California   13213                     32.0  "
            ]
          },
          "metadata": {
            "tags": []
          },
          "execution_count": 114
        }
      ]
    },
    {
      "cell_type": "markdown",
      "metadata": {
        "id": "6HGA_qozr-G-",
        "colab_type": "text"
      },
      "source": [
        "\n",
        "\n",
        "*   **Check how many index and columns**\n",
        "\n",
        "\n"
      ]
    },
    {
      "cell_type": "code",
      "metadata": {
        "id": "10oPvwjicYQR",
        "colab_type": "code",
        "outputId": "c6f659be-9457-473c-b0e7-69733516ed28",
        "colab": {
          "base_uri": "https://localhost:8080/",
          "height": 35
        }
      },
      "source": [
        "df_LCDUS.shape"
      ],
      "execution_count": 115,
      "outputs": [
        {
          "output_type": "execute_result",
          "data": {
            "text/plain": [
              "(10296, 6)"
            ]
          },
          "metadata": {
            "tags": []
          },
          "execution_count": 115
        }
      ]
    },
    {
      "cell_type": "markdown",
      "metadata": {
        "id": "3artYNamVdvk",
        "colab_type": "text"
      },
      "source": [
        "*   **Check for null or empty rows/columns**"
      ]
    },
    {
      "cell_type": "code",
      "metadata": {
        "id": "gG4sZrh5cYMd",
        "colab_type": "code",
        "outputId": "d0aadba1-23a8-4425-9ae7-1cf4137f95e0",
        "colab": {
          "base_uri": "https://localhost:8080/",
          "height": 140
        }
      },
      "source": [
        "df_LCDUS.isna().sum()"
      ],
      "execution_count": 116,
      "outputs": [
        {
          "output_type": "execute_result",
          "data": {
            "text/plain": [
              "Year                       0\n",
              "113 Cause Name             0\n",
              "Cause Name                 0\n",
              "State                      0\n",
              "Deaths                     0\n",
              "Age-adjusted Death Rate    0\n",
              "dtype: int64"
            ]
          },
          "metadata": {
            "tags": []
          },
          "execution_count": 116
        }
      ]
    },
    {
      "cell_type": "markdown",
      "metadata": {
        "id": "G41M5FZIVfsx",
        "colab_type": "text"
      },
      "source": [
        "*   ** Remove a single column (axis=1 refers to columns) because it is the same with cause_name which is more specific in describing the ten leading cause of death**"
      ]
    },
    {
      "cell_type": "code",
      "metadata": {
        "id": "zhv0nFwqrM5F",
        "colab_type": "code",
        "colab": {}
      },
      "source": [
        "df_LCDUS.drop('113 Cause Name', axis=1, inplace=True)"
      ],
      "execution_count": 0,
      "outputs": []
    },
    {
      "cell_type": "markdown",
      "metadata": {
        "id": "KD4NFvQQVieL",
        "colab_type": "text"
      },
      "source": [
        "*   **replace all spaces with underscores and all lower letter in the column names by using the 'str.replace' method,\n",
        "this will help in the string commands (example: df_LCDUS.age_adjusted_death_rate.describe())**"
      ]
    },
    {
      "cell_type": "code",
      "metadata": {
        "id": "t-AWcSkzrM1X",
        "colab_type": "code",
        "outputId": "519106f3-76f0-4afa-d098-674f00db1695",
        "colab": {
          "base_uri": "https://localhost:8080/",
          "height": 35
        }
      },
      "source": [
        "df_LCDUS.columns = df_LCDUS.columns.str.replace(' ', '_').str.replace('-', '_').str.lower()\n",
        "df_LCDUS.columns"
      ],
      "execution_count": 118,
      "outputs": [
        {
          "output_type": "execute_result",
          "data": {
            "text/plain": [
              "Index(['year', 'cause_name', 'state', 'deaths', 'age_adjusted_death_rate'], dtype='object')"
            ]
          },
          "metadata": {
            "tags": []
          },
          "execution_count": 118
        }
      ]
    },
    {
      "cell_type": "markdown",
      "metadata": {
        "id": "lsX5EKFeVk2e",
        "colab_type": "text"
      },
      "source": [
        "*   **Add new columns population by computing it from number of death \n",
        "and Age-adjusted death rates (per 100,000 population) are based on the \n",
        "2000 U.S. standard population.**"
      ]
    },
    {
      "cell_type": "code",
      "metadata": {
        "id": "XtKoi3XorMxm",
        "colab_type": "code",
        "outputId": "d15c4eec-c9d0-4016-bd29-c693e390f3bf",
        "colab": {
          "base_uri": "https://localhost:8080/",
          "height": 203
        }
      },
      "source": [
        "df_LCDUS['population'] = (df_LCDUS['deaths']*100000) / df_LCDUS['age_adjusted_death_rate']\n",
        "df_LCDUS.head()"
      ],
      "execution_count": 119,
      "outputs": [
        {
          "output_type": "execute_result",
          "data": {
            "text/html": [
              "<div>\n",
              "<style scoped>\n",
              "    .dataframe tbody tr th:only-of-type {\n",
              "        vertical-align: middle;\n",
              "    }\n",
              "\n",
              "    .dataframe tbody tr th {\n",
              "        vertical-align: top;\n",
              "    }\n",
              "\n",
              "    .dataframe thead th {\n",
              "        text-align: right;\n",
              "    }\n",
              "</style>\n",
              "<table border=\"1\" class=\"dataframe\">\n",
              "  <thead>\n",
              "    <tr style=\"text-align: right;\">\n",
              "      <th></th>\n",
              "      <th>year</th>\n",
              "      <th>cause_name</th>\n",
              "      <th>state</th>\n",
              "      <th>deaths</th>\n",
              "      <th>age_adjusted_death_rate</th>\n",
              "      <th>population</th>\n",
              "    </tr>\n",
              "  </thead>\n",
              "  <tbody>\n",
              "    <tr>\n",
              "      <th>0</th>\n",
              "      <td>2016</td>\n",
              "      <td>Unintentional injuries</td>\n",
              "      <td>Alabama</td>\n",
              "      <td>2755</td>\n",
              "      <td>55.5</td>\n",
              "      <td>4.963964e+06</td>\n",
              "    </tr>\n",
              "    <tr>\n",
              "      <th>1</th>\n",
              "      <td>2016</td>\n",
              "      <td>Unintentional injuries</td>\n",
              "      <td>Alaska</td>\n",
              "      <td>439</td>\n",
              "      <td>63.1</td>\n",
              "      <td>6.957211e+05</td>\n",
              "    </tr>\n",
              "    <tr>\n",
              "      <th>2</th>\n",
              "      <td>2016</td>\n",
              "      <td>Unintentional injuries</td>\n",
              "      <td>Arizona</td>\n",
              "      <td>4010</td>\n",
              "      <td>54.2</td>\n",
              "      <td>7.398524e+06</td>\n",
              "    </tr>\n",
              "    <tr>\n",
              "      <th>3</th>\n",
              "      <td>2016</td>\n",
              "      <td>Unintentional injuries</td>\n",
              "      <td>Arkansas</td>\n",
              "      <td>1604</td>\n",
              "      <td>51.8</td>\n",
              "      <td>3.096525e+06</td>\n",
              "    </tr>\n",
              "    <tr>\n",
              "      <th>4</th>\n",
              "      <td>2016</td>\n",
              "      <td>Unintentional injuries</td>\n",
              "      <td>California</td>\n",
              "      <td>13213</td>\n",
              "      <td>32.0</td>\n",
              "      <td>4.129062e+07</td>\n",
              "    </tr>\n",
              "  </tbody>\n",
              "</table>\n",
              "</div>"
            ],
            "text/plain": [
              "   year              cause_name       state  deaths  age_adjusted_death_rate  \\\n",
              "0  2016  Unintentional injuries     Alabama    2755                     55.5   \n",
              "1  2016  Unintentional injuries      Alaska     439                     63.1   \n",
              "2  2016  Unintentional injuries     Arizona    4010                     54.2   \n",
              "3  2016  Unintentional injuries    Arkansas    1604                     51.8   \n",
              "4  2016  Unintentional injuries  California   13213                     32.0   \n",
              "\n",
              "     population  \n",
              "0  4.963964e+06  \n",
              "1  6.957211e+05  \n",
              "2  7.398524e+06  \n",
              "3  3.096525e+06  \n",
              "4  4.129062e+07  "
            ]
          },
          "metadata": {
            "tags": []
          },
          "execution_count": 119
        }
      ]
    },
    {
      "cell_type": "markdown",
      "metadata": {
        "id": "vuE3B3qBVo0Z",
        "colab_type": "text"
      },
      "source": [
        "*   **check type  of the value per column of  DafaFrame df_LCDUS**"
      ]
    },
    {
      "cell_type": "code",
      "metadata": {
        "id": "OLNk6_BsrMuO",
        "colab_type": "code",
        "outputId": "49a20401-be3d-4e44-d401-2ecd64839c58",
        "colab": {
          "base_uri": "https://localhost:8080/",
          "height": 140
        }
      },
      "source": [
        "df_LCDUS.dtypes"
      ],
      "execution_count": 120,
      "outputs": [
        {
          "output_type": "execute_result",
          "data": {
            "text/plain": [
              "year                         int64\n",
              "cause_name                  object\n",
              "state                       object\n",
              "deaths                       int64\n",
              "age_adjusted_death_rate    float64\n",
              "population                 float64\n",
              "dtype: object"
            ]
          },
          "metadata": {
            "tags": []
          },
          "execution_count": 120
        }
      ]
    },
    {
      "cell_type": "markdown",
      "metadata": {
        "id": "tDCbtqJD3o0K",
        "colab_type": "text"
      },
      "source": [
        "*  ** We do a quick look on its mean, std and quartile range.**"
      ]
    },
    {
      "cell_type": "code",
      "metadata": {
        "id": "UIQ80_Aw02W0",
        "colab_type": "code",
        "colab": {
          "base_uri": "https://localhost:8080/",
          "height": 295
        },
        "outputId": "c78d0806-4cad-4619-94a9-04e7ee29b697"
      },
      "source": [
        "df_LCDUS.describe()"
      ],
      "execution_count": 121,
      "outputs": [
        {
          "output_type": "execute_result",
          "data": {
            "text/html": [
              "<div>\n",
              "<style scoped>\n",
              "    .dataframe tbody tr th:only-of-type {\n",
              "        vertical-align: middle;\n",
              "    }\n",
              "\n",
              "    .dataframe tbody tr th {\n",
              "        vertical-align: top;\n",
              "    }\n",
              "\n",
              "    .dataframe thead th {\n",
              "        text-align: right;\n",
              "    }\n",
              "</style>\n",
              "<table border=\"1\" class=\"dataframe\">\n",
              "  <thead>\n",
              "    <tr style=\"text-align: right;\">\n",
              "      <th></th>\n",
              "      <th>year</th>\n",
              "      <th>deaths</th>\n",
              "      <th>age_adjusted_death_rate</th>\n",
              "      <th>population</th>\n",
              "    </tr>\n",
              "  </thead>\n",
              "  <tbody>\n",
              "    <tr>\n",
              "      <th>count</th>\n",
              "      <td>10296.000000</td>\n",
              "      <td>1.029600e+04</td>\n",
              "      <td>10296.000000</td>\n",
              "      <td>1.029600e+04</td>\n",
              "    </tr>\n",
              "    <tr>\n",
              "      <th>mean</th>\n",
              "      <td>2007.500000</td>\n",
              "      <td>1.532668e+04</td>\n",
              "      <td>128.026428</td>\n",
              "      <td>1.222490e+07</td>\n",
              "    </tr>\n",
              "    <tr>\n",
              "      <th>std</th>\n",
              "      <td>5.188379</td>\n",
              "      <td>1.112160e+05</td>\n",
              "      <td>224.355281</td>\n",
              "      <td>4.355751e+07</td>\n",
              "    </tr>\n",
              "    <tr>\n",
              "      <th>min</th>\n",
              "      <td>1999.000000</td>\n",
              "      <td>2.100000e+01</td>\n",
              "      <td>2.600000</td>\n",
              "      <td>2.016807e+05</td>\n",
              "    </tr>\n",
              "    <tr>\n",
              "      <th>25%</th>\n",
              "      <td>2003.000000</td>\n",
              "      <td>6.060000e+02</td>\n",
              "      <td>19.200000</td>\n",
              "      <td>1.739552e+06</td>\n",
              "    </tr>\n",
              "    <tr>\n",
              "      <th>50%</th>\n",
              "      <td>2007.500000</td>\n",
              "      <td>1.704500e+03</td>\n",
              "      <td>35.800000</td>\n",
              "      <td>4.347318e+06</td>\n",
              "    </tr>\n",
              "    <tr>\n",
              "      <th>75%</th>\n",
              "      <td>2012.000000</td>\n",
              "      <td>5.678000e+03</td>\n",
              "      <td>153.025000</td>\n",
              "      <td>7.559580e+06</td>\n",
              "    </tr>\n",
              "    <tr>\n",
              "      <th>max</th>\n",
              "      <td>2016.000000</td>\n",
              "      <td>2.712630e+06</td>\n",
              "      <td>1087.300000</td>\n",
              "      <td>3.838498e+08</td>\n",
              "    </tr>\n",
              "  </tbody>\n",
              "</table>\n",
              "</div>"
            ],
            "text/plain": [
              "               year        deaths  age_adjusted_death_rate    population\n",
              "count  10296.000000  1.029600e+04             10296.000000  1.029600e+04\n",
              "mean    2007.500000  1.532668e+04               128.026428  1.222490e+07\n",
              "std        5.188379  1.112160e+05               224.355281  4.355751e+07\n",
              "min     1999.000000  2.100000e+01                 2.600000  2.016807e+05\n",
              "25%     2003.000000  6.060000e+02                19.200000  1.739552e+06\n",
              "50%     2007.500000  1.704500e+03                35.800000  4.347318e+06\n",
              "75%     2012.000000  5.678000e+03               153.025000  7.559580e+06\n",
              "max     2016.000000  2.712630e+06              1087.300000  3.838498e+08"
            ]
          },
          "metadata": {
            "tags": []
          },
          "execution_count": 121
        }
      ]
    },
    {
      "cell_type": "markdown",
      "metadata": {
        "colab_type": "text",
        "id": "2aZP7v1edWb6"
      },
      "source": [
        "### Histogram Visualization\n",
        "\n",
        "*   **The histogram shows the distribution of variables, the histogram belows are not Normal Distribution ** \n",
        "*   **In the Deaths variables, 0 to 250000 has the highest frequency than the rest of the variable** \n",
        "*   **In the Age Adjusted Death Rate variables 0 to 100 has the highest frequency than the rest of the  variables  ** \n",
        "*   **In the Population variables 0 to 40 million has the highest frequency than the rest of the variable.  ** \n",
        "*  **** \n",
        "\n"
      ]
    },
    {
      "cell_type": "code",
      "metadata": {
        "id": "1GBSONZs0w9F",
        "colab_type": "code",
        "colab": {}
      },
      "source": [
        ""
      ],
      "execution_count": 0,
      "outputs": []
    },
    {
      "cell_type": "code",
      "metadata": {
        "colab_type": "code",
        "outputId": "2916fe3c-89f9-4d89-dd58-9593bc46f23b",
        "id": "zxlAe9HUd3PD",
        "colab": {
          "base_uri": "https://localhost:8080/",
          "height": 513
        }
      },
      "source": [
        "plt.figure(figsize=(15,8 ))\n",
        "\n",
        "plt.subplot(2,2,1)\n",
        "plt.hist(df_LCDUS.deaths)\n",
        "plt.ylabel('Frequency')\n",
        "plt.title('DISTRIBUTION OF DEATHS VARIABLE')\n",
        "\n",
        "plt.subplot(2,2,2)\n",
        "plt.hist(df_LCDUS.age_adjusted_death_rate)\n",
        "plt.ylabel('Frequency')\n",
        "plt.title('DISTRIBUTION OF AGE DEATH RATE VARIABLE')\n",
        "\n",
        "plt.subplot(2,2,3)           \n",
        "plt.hist(df_LCDUS.population)\n",
        "plt.ylabel('Frequency')\n",
        "plt.xlabel('DISTRIBUTION OF POPULATION VARIABLE')\n",
        "\n",
        "\n",
        "plt.show()"
      ],
      "execution_count": 122,
      "outputs": [
        {
          "output_type": "display_data",
          "data": {
            "image/png": "[encoded data removed]",
            "text/plain": [
              "<Figure size 1080x576 with 3 Axes>"
            ]
          },
          "metadata": {
            "tags": []
          }
        }
      ]
    },
    {
      "cell_type": "markdown",
      "metadata": {
        "colab_type": "text",
        "id": "-d8wXVFfcfIz"
      },
      "source": [
        "### BOXPLOT \n",
        "\n",
        "* **Boxplots are used to compare groups and to identify differences in variance, as well as outliers.\n",
        "There are positive outliers on the three boxplot. The median are 1700, 4 million and 36 respectively.**\n",
        "\n",
        "\n",
        "\n",
        "\n",
        "\n",
        "\n",
        "\n",
        "\n"
      ]
    },
    {
      "cell_type": "code",
      "metadata": {
        "colab_type": "code",
        "outputId": "24117208-5794-4fce-8c2d-d923aed69455",
        "id": "w5S1SpFYcydO",
        "colab": {
          "base_uri": "https://localhost:8080/",
          "height": 825
        }
      },
      "source": [
        "plt.figure(figsize=(10, 14))\n",
        "\n",
        "plt.subplot(2,2,1)\n",
        "plt.boxplot(df_LCDUS.deaths)\n",
        "plt.legend(['median 1700'])\n",
        "plt.title('VARIABLES OF COLUMN DEATH')\n",
        "\n",
        "\n",
        "plt.subplot(2,2,2)\n",
        "plt.boxplot(df_LCDUS.population)\n",
        "plt.legend(['median 4 Million'])\n",
        "plt.title('VARIABLES OF COLUMN POPULATION')\n",
        "\n",
        "plt.subplot(2,2,3)\n",
        "plt.boxplot(df_LCDUS.age_adjusted_death_rate)\n",
        "plt.legend(['median 36'])\n",
        "plt.title('VARIABLES OF AGE ADJUSTED DEATH RATE')\n",
        "\n",
        "plt.show()\n",
        "\n"
      ],
      "execution_count": 123,
      "outputs": [
        {
          "output_type": "display_data",
          "data": {
            "image/png": "[encoded data removed]",
            "text/plain": [
              "<Figure size 720x1008 with 3 Axes>"
            ]
          },
          "metadata": {
            "tags": []
          }
        }
      ]
    },
    {
      "cell_type": "markdown",
      "metadata": {
        "id": "uMS0q1KGum55",
        "colab_type": "text"
      },
      "source": [
        "##What disease cause the highest death?\n"
      ]
    },
    {
      "cell_type": "markdown",
      "metadata": {
        "id": "rvXZ5N8M9Nun",
        "colab_type": "text"
      },
      "source": [
        "* ** Let see 1st what are the diseases, CLRD means Chronic Lower Respiratory disease, 11 diseases** "
      ]
    },
    {
      "cell_type": "code",
      "metadata": {
        "id": "efAxEOpkrMqb",
        "colab_type": "code",
        "outputId": "3900c389-1a79-48b4-df58-0f18d10e8423",
        "colab": {
          "base_uri": "https://localhost:8080/",
          "height": 87
        }
      },
      "source": [
        "df_LCDUS.cause_name.unique()"
      ],
      "execution_count": 124,
      "outputs": [
        {
          "output_type": "execute_result",
          "data": {
            "text/plain": [
              "array(['Unintentional injuries', 'All causes', \"Alzheimer's disease\",\n",
              "       'Cancer', 'CLRD', 'Diabetes', 'Heart disease',\n",
              "       'Influenza and pneumonia', 'Kidney disease', 'Stroke', 'Suicide'],\n",
              "      dtype=object)"
            ]
          },
          "metadata": {
            "tags": []
          },
          "execution_count": 124
        }
      ]
    },
    {
      "cell_type": "markdown",
      "metadata": {
        "id": "OsZRrTiY-CvB",
        "colab_type": "text"
      },
      "source": [
        "* ** We  group by column cause name and describe the statistical death value **"
      ]
    },
    {
      "cell_type": "code",
      "metadata": {
        "id": "wYtpWSDirMm5",
        "colab_type": "code",
        "outputId": "f445f1fb-99b5-40ae-8f0e-50fd85c6a98f",
        "colab": {
          "base_uri": "https://localhost:8080/",
          "height": 418
        }
      },
      "source": [
        "df_LCDUS.groupby('cause_name').deaths.describe()"
      ],
      "execution_count": 125,
      "outputs": [
        {
          "output_type": "execute_result",
          "data": {
            "text/html": [
              "<div>\n",
              "<style scoped>\n",
              "    .dataframe tbody tr th:only-of-type {\n",
              "        vertical-align: middle;\n",
              "    }\n",
              "\n",
              "    .dataframe tbody tr th {\n",
              "        vertical-align: top;\n",
              "    }\n",
              "\n",
              "    .dataframe thead th {\n",
              "        text-align: right;\n",
              "    }\n",
              "</style>\n",
              "<table border=\"1\" class=\"dataframe\">\n",
              "  <thead>\n",
              "    <tr style=\"text-align: right;\">\n",
              "      <th></th>\n",
              "      <th>count</th>\n",
              "      <th>mean</th>\n",
              "      <th>std</th>\n",
              "      <th>min</th>\n",
              "      <th>25%</th>\n",
              "      <th>50%</th>\n",
              "      <th>75%</th>\n",
              "      <th>max</th>\n",
              "    </tr>\n",
              "    <tr>\n",
              "      <th>cause_name</th>\n",
              "      <th></th>\n",
              "      <th></th>\n",
              "      <th></th>\n",
              "      <th></th>\n",
              "      <th></th>\n",
              "      <th></th>\n",
              "      <th></th>\n",
              "      <th></th>\n",
              "    </tr>\n",
              "  </thead>\n",
              "  <tbody>\n",
              "    <tr>\n",
              "      <th>All causes</th>\n",
              "      <td>936.0</td>\n",
              "      <td>95518.545940</td>\n",
              "      <td>336716.532389</td>\n",
              "      <td>2708.0</td>\n",
              "      <td>13357.25</td>\n",
              "      <td>37156.5</td>\n",
              "      <td>59651.25</td>\n",
              "      <td>2712630.0</td>\n",
              "    </tr>\n",
              "    <tr>\n",
              "      <th>Alzheimer's disease</th>\n",
              "      <td>936.0</td>\n",
              "      <td>2934.641026</td>\n",
              "      <td>10729.820073</td>\n",
              "      <td>24.0</td>\n",
              "      <td>396.00</td>\n",
              "      <td>1106.0</td>\n",
              "      <td>2001.75</td>\n",
              "      <td>116103.0</td>\n",
              "    </tr>\n",
              "    <tr>\n",
              "      <th>CLRD</th>\n",
              "      <td>936.0</td>\n",
              "      <td>5202.405983</td>\n",
              "      <td>18472.212360</td>\n",
              "      <td>126.0</td>\n",
              "      <td>780.25</td>\n",
              "      <td>1974.0</td>\n",
              "      <td>3247.25</td>\n",
              "      <td>155041.0</td>\n",
              "    </tr>\n",
              "    <tr>\n",
              "      <th>Cancer</th>\n",
              "      <td>936.0</td>\n",
              "      <td>21890.034188</td>\n",
              "      <td>77526.682414</td>\n",
              "      <td>633.0</td>\n",
              "      <td>3019.00</td>\n",
              "      <td>8182.5</td>\n",
              "      <td>13769.00</td>\n",
              "      <td>598038.0</td>\n",
              "    </tr>\n",
              "    <tr>\n",
              "      <th>Diabetes</th>\n",
              "      <td>936.0</td>\n",
              "      <td>2812.775641</td>\n",
              "      <td>9972.042093</td>\n",
              "      <td>67.0</td>\n",
              "      <td>376.75</td>\n",
              "      <td>1111.0</td>\n",
              "      <td>1734.50</td>\n",
              "      <td>80058.0</td>\n",
              "    </tr>\n",
              "    <tr>\n",
              "      <th>Heart disease</th>\n",
              "      <td>936.0</td>\n",
              "      <td>24733.297009</td>\n",
              "      <td>87845.935873</td>\n",
              "      <td>563.0</td>\n",
              "      <td>3007.25</td>\n",
              "      <td>9097.5</td>\n",
              "      <td>15354.00</td>\n",
              "      <td>725192.0</td>\n",
              "    </tr>\n",
              "    <tr>\n",
              "      <th>Influenza and pneumonia</th>\n",
              "      <td>936.0</td>\n",
              "      <td>2220.019231</td>\n",
              "      <td>7907.102507</td>\n",
              "      <td>36.0</td>\n",
              "      <td>321.50</td>\n",
              "      <td>776.0</td>\n",
              "      <td>1480.00</td>\n",
              "      <td>65681.0</td>\n",
              "    </tr>\n",
              "    <tr>\n",
              "      <th>Kidney disease</th>\n",
              "      <td>936.0</td>\n",
              "      <td>1726.452991</td>\n",
              "      <td>6134.124786</td>\n",
              "      <td>21.0</td>\n",
              "      <td>220.00</td>\n",
              "      <td>600.5</td>\n",
              "      <td>1364.00</td>\n",
              "      <td>50476.0</td>\n",
              "    </tr>\n",
              "    <tr>\n",
              "      <th>Stroke</th>\n",
              "      <td>936.0</td>\n",
              "      <td>5513.119658</td>\n",
              "      <td>19623.494170</td>\n",
              "      <td>157.0</td>\n",
              "      <td>754.25</td>\n",
              "      <td>2147.0</td>\n",
              "      <td>3602.00</td>\n",
              "      <td>167661.0</td>\n",
              "    </tr>\n",
              "    <tr>\n",
              "      <th>Suicide</th>\n",
              "      <td>936.0</td>\n",
              "      <td>1388.553419</td>\n",
              "      <td>4962.230371</td>\n",
              "      <td>23.0</td>\n",
              "      <td>235.75</td>\n",
              "      <td>535.5</td>\n",
              "      <td>955.00</td>\n",
              "      <td>44965.0</td>\n",
              "    </tr>\n",
              "    <tr>\n",
              "      <th>Unintentional injuries</th>\n",
              "      <td>936.0</td>\n",
              "      <td>4653.598291</td>\n",
              "      <td>16605.223429</td>\n",
              "      <td>145.0</td>\n",
              "      <td>696.75</td>\n",
              "      <td>1888.0</td>\n",
              "      <td>3104.75</td>\n",
              "      <td>161374.0</td>\n",
              "    </tr>\n",
              "  </tbody>\n",
              "</table>\n",
              "</div>"
            ],
            "text/plain": [
              "                         count          mean            std     min       25%  \\\n",
              "cause_name                                                                      \n",
              "All causes               936.0  95518.545940  336716.532389  2708.0  13357.25   \n",
              "Alzheimer's disease      936.0   2934.641026   10729.820073    24.0    396.00   \n",
              "CLRD                     936.0   5202.405983   18472.212360   126.0    780.25   \n",
              "Cancer                   936.0  21890.034188   77526.682414   633.0   3019.00   \n",
              "Diabetes                 936.0   2812.775641    9972.042093    67.0    376.75   \n",
              "Heart disease            936.0  24733.297009   87845.935873   563.0   3007.25   \n",
              "Influenza and pneumonia  936.0   2220.019231    7907.102507    36.0    321.50   \n",
              "Kidney disease           936.0   1726.452991    6134.124786    21.0    220.00   \n",
              "Stroke                   936.0   5513.119658   19623.494170   157.0    754.25   \n",
              "Suicide                  936.0   1388.553419    4962.230371    23.0    235.75   \n",
              "Unintentional injuries   936.0   4653.598291   16605.223429   145.0    696.75   \n",
              "\n",
              "                             50%       75%        max  \n",
              "cause_name                                             \n",
              "All causes               37156.5  59651.25  2712630.0  \n",
              "Alzheimer's disease       1106.0   2001.75   116103.0  \n",
              "CLRD                      1974.0   3247.25   155041.0  \n",
              "Cancer                    8182.5  13769.00   598038.0  \n",
              "Diabetes                  1111.0   1734.50    80058.0  \n",
              "Heart disease             9097.5  15354.00   725192.0  \n",
              "Influenza and pneumonia    776.0   1480.00    65681.0  \n",
              "Kidney disease             600.5   1364.00    50476.0  \n",
              "Stroke                    2147.0   3602.00   167661.0  \n",
              "Suicide                    535.5    955.00    44965.0  \n",
              "Unintentional injuries    1888.0   3104.75   161374.0  "
            ]
          },
          "metadata": {
            "tags": []
          },
          "execution_count": 125
        }
      ]
    },
    {
      "cell_type": "markdown",
      "metadata": {
        "id": "FkQA56M__f-Q",
        "colab_type": "text"
      },
      "source": [
        "* **For now, we study only the death cause by disease so we remove row All causes, Suicide, Unintentional injuries.  All causes value is way to high and have effect on our data and in our visualization. **\n",
        "\n",
        "* **Python will retain the boolean 'True' when reading the column cause_name by row, and  we save it to a new DataFrame df_diseases.**"
      ]
    },
    {
      "cell_type": "code",
      "metadata": {
        "id": "k29vMwkHrMja",
        "colab_type": "code",
        "colab": {}
      },
      "source": [
        "df_diseases = df_LCDUS[(df_LCDUS.cause_name != 'All causes') & \n",
        "                        (df_LCDUS.cause_name !='Unintentional injuries') & \n",
        "                        (df_LCDUS.cause_name !='Suicide')]\n",
        "\n"
      ],
      "execution_count": 0,
      "outputs": []
    },
    {
      "cell_type": "markdown",
      "metadata": {
        "id": "2Z3gGD2eFI8A",
        "colab_type": "text"
      },
      "source": [
        "* **We can see now that row is reduce from 10296 to 7488.**"
      ]
    },
    {
      "cell_type": "code",
      "metadata": {
        "id": "QGQsqDrLBCgS",
        "colab_type": "code",
        "outputId": "b569725e-2818-4f62-86c2-f4d6e071515e",
        "colab": {
          "base_uri": "https://localhost:8080/",
          "height": 35
        }
      },
      "source": [
        "df_diseases.shape"
      ],
      "execution_count": 127,
      "outputs": [
        {
          "output_type": "execute_result",
          "data": {
            "text/plain": [
              "(7488, 6)"
            ]
          },
          "metadata": {
            "tags": []
          },
          "execution_count": 127
        }
      ]
    },
    {
      "cell_type": "markdown",
      "metadata": {
        "id": "DXjlE_Q-FWkU",
        "colab_type": "text"
      },
      "source": [
        "* **We goupby number of death in the dataframe df_disease in each cause_name save it to a variable grpby_coznm_death and get the death on each disease. The no. 1 cause of is the Heart Disease and the least cause of death the Kidney disease **\n",
        "\n",
        "\n",
        "\n"
      ]
    },
    {
      "cell_type": "code",
      "metadata": {
        "id": "JwSc9aRHBCbT",
        "colab_type": "code",
        "outputId": "e68486b6-20ff-4919-8d5c-ad71534e7f08",
        "colab": {
          "base_uri": "https://localhost:8080/",
          "height": 193
        }
      },
      "source": [
        "grpby_coznm_death = df_diseases.groupby('cause_name').deaths\n",
        "grpby_coznm_death.mean().sort_values(ascending=False)\n"
      ],
      "execution_count": 128,
      "outputs": [
        {
          "output_type": "execute_result",
          "data": {
            "text/plain": [
              "cause_name\n",
              "Heart disease              24733.297009\n",
              "Cancer                     21890.034188\n",
              "Stroke                      5513.119658\n",
              "CLRD                        5202.405983\n",
              "Alzheimer's disease         2934.641026\n",
              "Diabetes                    2812.775641\n",
              "Influenza and pneumonia     2220.019231\n",
              "Kidney disease              1726.452991\n",
              "Name: deaths, dtype: float64"
            ]
          },
          "metadata": {
            "tags": []
          },
          "execution_count": 128
        }
      ]
    },
    {
      "cell_type": "markdown",
      "metadata": {
        "id": "7toL9fvfIl7U",
        "colab_type": "text"
      },
      "source": [
        "* **Visualize it see more clearly,  in the pie visualization shows that Heart Disease cause the highest death in US from year 1999 to 2016.**"
      ]
    },
    {
      "cell_type": "code",
      "metadata": {
        "id": "_DnKZ9DRkN1t",
        "colab_type": "code",
        "outputId": "be2c4d79-7279-4b02-d6e1-2b2bc3a2d6ae",
        "colab": {
          "base_uri": "https://localhost:8080/",
          "height": 268
        }
      },
      "source": [
        "x = grpby_coznm_death.sum()\n",
        "\n",
        "labels = x.index\n",
        "sizes = x.values\n",
        "explode = (0.1, 0.1, 0.1, 0.1, 0.1, 0.1, 0.1 , 0.1)  # \"explode\" all slice\n",
        "\n",
        "\n",
        "fig1, ax1 = plt.subplots()\n",
        "ax1.pie(sizes, explode=explode, labels=labels, autopct='%1.1f%%', startangle=90)\n",
        "ax1.axis('equal')  # Equal aspect ratio ensures that pie is drawn as a circle.\n",
        "plt.title('PERCENT OF DEATH PER DISEASE')\n",
        "\n",
        "plt.show()"
      ],
      "execution_count": 129,
      "outputs": [
        {
          "output_type": "display_data",
          "data": {
            "image/png": "[encoded data removed]",
            "text/plain": [
              "<Figure size 432x288 with 1 Axes>"
            ]
          },
          "metadata": {
            "tags": []
          }
        }
      ]
    },
    {
      "cell_type": "markdown",
      "metadata": {
        "id": "MLwhOvaCRa5B",
        "colab_type": "text"
      },
      "source": [
        "## What year recorded the highest death?\n"
      ]
    },
    {
      "cell_type": "markdown",
      "metadata": {
        "id": "tz0KiyQZJ4IS",
        "colab_type": "text"
      },
      "source": [
        "* **We group the DataFrame df_disease by year and describe the average death value statistically **"
      ]
    },
    {
      "cell_type": "code",
      "metadata": {
        "id": "HZRZN8PKRV2f",
        "colab_type": "code",
        "outputId": "88fdd8f7-6756-4c86-f1ce-85d6d1e43640",
        "colab": {
          "base_uri": "https://localhost:8080/",
          "height": 634
        }
      },
      "source": [
        "grpby_yr_death = df_diseases.groupby('year').deaths\n",
        "grpby_yr_death.describe()"
      ],
      "execution_count": 130,
      "outputs": [
        {
          "output_type": "execute_result",
          "data": {
            "text/html": [
              "<div>\n",
              "<style scoped>\n",
              "    .dataframe tbody tr th:only-of-type {\n",
              "        vertical-align: middle;\n",
              "    }\n",
              "\n",
              "    .dataframe tbody tr th {\n",
              "        vertical-align: top;\n",
              "    }\n",
              "\n",
              "    .dataframe thead th {\n",
              "        text-align: right;\n",
              "    }\n",
              "</style>\n",
              "<table border=\"1\" class=\"dataframe\">\n",
              "  <thead>\n",
              "    <tr style=\"text-align: right;\">\n",
              "      <th></th>\n",
              "      <th>count</th>\n",
              "      <th>mean</th>\n",
              "      <th>std</th>\n",
              "      <th>min</th>\n",
              "      <th>25%</th>\n",
              "      <th>50%</th>\n",
              "      <th>75%</th>\n",
              "      <th>max</th>\n",
              "    </tr>\n",
              "    <tr>\n",
              "      <th>year</th>\n",
              "      <th></th>\n",
              "      <th></th>\n",
              "      <th></th>\n",
              "      <th></th>\n",
              "      <th></th>\n",
              "      <th></th>\n",
              "      <th></th>\n",
              "      <th></th>\n",
              "    </tr>\n",
              "  </thead>\n",
              "  <tbody>\n",
              "    <tr>\n",
              "      <th>1999</th>\n",
              "      <td>416.0</td>\n",
              "      <td>8551.764423</td>\n",
              "      <td>46312.045389</td>\n",
              "      <td>24.0</td>\n",
              "      <td>563.00</td>\n",
              "      <td>1452.0</td>\n",
              "      <td>4104.75</td>\n",
              "      <td>725192.0</td>\n",
              "    </tr>\n",
              "    <tr>\n",
              "      <th>2000</th>\n",
              "      <td>416.0</td>\n",
              "      <td>8533.384615</td>\n",
              "      <td>45854.574757</td>\n",
              "      <td>30.0</td>\n",
              "      <td>580.00</td>\n",
              "      <td>1536.0</td>\n",
              "      <td>4127.25</td>\n",
              "      <td>710760.0</td>\n",
              "    </tr>\n",
              "    <tr>\n",
              "      <th>2001</th>\n",
              "      <td>416.0</td>\n",
              "      <td>8496.149038</td>\n",
              "      <td>45456.947762</td>\n",
              "      <td>24.0</td>\n",
              "      <td>591.00</td>\n",
              "      <td>1543.5</td>\n",
              "      <td>4014.50</td>\n",
              "      <td>700142.0</td>\n",
              "    </tr>\n",
              "    <tr>\n",
              "      <th>2002</th>\n",
              "      <td>416.0</td>\n",
              "      <td>8559.980769</td>\n",
              "      <td>45470.667535</td>\n",
              "      <td>21.0</td>\n",
              "      <td>602.50</td>\n",
              "      <td>1618.5</td>\n",
              "      <td>3989.00</td>\n",
              "      <td>696947.0</td>\n",
              "    </tr>\n",
              "    <tr>\n",
              "      <th>2003</th>\n",
              "      <td>416.0</td>\n",
              "      <td>8516.125000</td>\n",
              "      <td>45000.419776</td>\n",
              "      <td>28.0</td>\n",
              "      <td>596.25</td>\n",
              "      <td>1665.5</td>\n",
              "      <td>4045.75</td>\n",
              "      <td>685089.0</td>\n",
              "    </tr>\n",
              "    <tr>\n",
              "      <th>2004</th>\n",
              "      <td>416.0</td>\n",
              "      <td>8267.701923</td>\n",
              "      <td>43605.816846</td>\n",
              "      <td>23.0</td>\n",
              "      <td>603.00</td>\n",
              "      <td>1594.0</td>\n",
              "      <td>3950.50</td>\n",
              "      <td>652486.0</td>\n",
              "    </tr>\n",
              "    <tr>\n",
              "      <th>2005</th>\n",
              "      <td>416.0</td>\n",
              "      <td>8363.149038</td>\n",
              "      <td>43797.949225</td>\n",
              "      <td>38.0</td>\n",
              "      <td>641.25</td>\n",
              "      <td>1628.5</td>\n",
              "      <td>4075.50</td>\n",
              "      <td>652091.0</td>\n",
              "    </tr>\n",
              "    <tr>\n",
              "      <th>2006</th>\n",
              "      <td>416.0</td>\n",
              "      <td>8172.004808</td>\n",
              "      <td>42967.928430</td>\n",
              "      <td>44.0</td>\n",
              "      <td>619.75</td>\n",
              "      <td>1614.0</td>\n",
              "      <td>3921.00</td>\n",
              "      <td>631636.0</td>\n",
              "    </tr>\n",
              "    <tr>\n",
              "      <th>2007</th>\n",
              "      <td>416.0</td>\n",
              "      <td>8115.370192</td>\n",
              "      <td>42512.796693</td>\n",
              "      <td>40.0</td>\n",
              "      <td>621.50</td>\n",
              "      <td>1611.0</td>\n",
              "      <td>3978.25</td>\n",
              "      <td>616067.0</td>\n",
              "    </tr>\n",
              "    <tr>\n",
              "      <th>2008</th>\n",
              "      <td>416.0</td>\n",
              "      <td>8245.403846</td>\n",
              "      <td>42735.393460</td>\n",
              "      <td>39.0</td>\n",
              "      <td>657.00</td>\n",
              "      <td>1659.0</td>\n",
              "      <td>4314.75</td>\n",
              "      <td>616828.0</td>\n",
              "    </tr>\n",
              "    <tr>\n",
              "      <th>2009</th>\n",
              "      <td>416.0</td>\n",
              "      <td>8094.091346</td>\n",
              "      <td>42109.031656</td>\n",
              "      <td>47.0</td>\n",
              "      <td>626.25</td>\n",
              "      <td>1612.0</td>\n",
              "      <td>3991.50</td>\n",
              "      <td>599413.0</td>\n",
              "    </tr>\n",
              "    <tr>\n",
              "      <th>2010</th>\n",
              "      <td>416.0</td>\n",
              "      <td>8140.028846</td>\n",
              "      <td>42303.447054</td>\n",
              "      <td>50.0</td>\n",
              "      <td>598.00</td>\n",
              "      <td>1611.5</td>\n",
              "      <td>4156.25</td>\n",
              "      <td>597689.0</td>\n",
              "    </tr>\n",
              "    <tr>\n",
              "      <th>2011</th>\n",
              "      <td>416.0</td>\n",
              "      <td>8189.254808</td>\n",
              "      <td>42383.308753</td>\n",
              "      <td>43.0</td>\n",
              "      <td>635.25</td>\n",
              "      <td>1645.0</td>\n",
              "      <td>4122.75</td>\n",
              "      <td>596577.0</td>\n",
              "    </tr>\n",
              "    <tr>\n",
              "      <th>2012</th>\n",
              "      <td>416.0</td>\n",
              "      <td>8212.480769</td>\n",
              "      <td>42677.804576</td>\n",
              "      <td>21.0</td>\n",
              "      <td>616.75</td>\n",
              "      <td>1648.0</td>\n",
              "      <td>4108.50</td>\n",
              "      <td>599711.0</td>\n",
              "    </tr>\n",
              "    <tr>\n",
              "      <th>2013</th>\n",
              "      <td>416.0</td>\n",
              "      <td>8358.677885</td>\n",
              "      <td>43215.819868</td>\n",
              "      <td>30.0</td>\n",
              "      <td>646.75</td>\n",
              "      <td>1647.0</td>\n",
              "      <td>4292.75</td>\n",
              "      <td>611105.0</td>\n",
              "    </tr>\n",
              "    <tr>\n",
              "      <th>2014</th>\n",
              "      <td>416.0</td>\n",
              "      <td>8459.875000</td>\n",
              "      <td>43596.852828</td>\n",
              "      <td>37.0</td>\n",
              "      <td>652.25</td>\n",
              "      <td>1732.5</td>\n",
              "      <td>4398.00</td>\n",
              "      <td>614348.0</td>\n",
              "    </tr>\n",
              "    <tr>\n",
              "      <th>2015</th>\n",
              "      <td>416.0</td>\n",
              "      <td>8760.831731</td>\n",
              "      <td>44624.863530</td>\n",
              "      <td>39.0</td>\n",
              "      <td>681.25</td>\n",
              "      <td>1877.0</td>\n",
              "      <td>4648.75</td>\n",
              "      <td>633842.0</td>\n",
              "    </tr>\n",
              "    <tr>\n",
              "      <th>2016</th>\n",
              "      <td>416.0</td>\n",
              "      <td>8787.403846</td>\n",
              "      <td>44772.562920</td>\n",
              "      <td>30.0</td>\n",
              "      <td>672.00</td>\n",
              "      <td>1889.5</td>\n",
              "      <td>4686.00</td>\n",
              "      <td>635260.0</td>\n",
              "    </tr>\n",
              "  </tbody>\n",
              "</table>\n",
              "</div>"
            ],
            "text/plain": [
              "      count         mean           std   min     25%     50%      75%  \\\n",
              "year                                                                    \n",
              "1999  416.0  8551.764423  46312.045389  24.0  563.00  1452.0  4104.75   \n",
              "2000  416.0  8533.384615  45854.574757  30.0  580.00  1536.0  4127.25   \n",
              "2001  416.0  8496.149038  45456.947762  24.0  591.00  1543.5  4014.50   \n",
              "2002  416.0  8559.980769  45470.667535  21.0  602.50  1618.5  3989.00   \n",
              "2003  416.0  8516.125000  45000.419776  28.0  596.25  1665.5  4045.75   \n",
              "2004  416.0  8267.701923  43605.816846  23.0  603.00  1594.0  3950.50   \n",
              "2005  416.0  8363.149038  43797.949225  38.0  641.25  1628.5  4075.50   \n",
              "2006  416.0  8172.004808  42967.928430  44.0  619.75  1614.0  3921.00   \n",
              "2007  416.0  8115.370192  42512.796693  40.0  621.50  1611.0  3978.25   \n",
              "2008  416.0  8245.403846  42735.393460  39.0  657.00  1659.0  4314.75   \n",
              "2009  416.0  8094.091346  42109.031656  47.0  626.25  1612.0  3991.50   \n",
              "2010  416.0  8140.028846  42303.447054  50.0  598.00  1611.5  4156.25   \n",
              "2011  416.0  8189.254808  42383.308753  43.0  635.25  1645.0  4122.75   \n",
              "2012  416.0  8212.480769  42677.804576  21.0  616.75  1648.0  4108.50   \n",
              "2013  416.0  8358.677885  43215.819868  30.0  646.75  1647.0  4292.75   \n",
              "2014  416.0  8459.875000  43596.852828  37.0  652.25  1732.5  4398.00   \n",
              "2015  416.0  8760.831731  44624.863530  39.0  681.25  1877.0  4648.75   \n",
              "2016  416.0  8787.403846  44772.562920  30.0  672.00  1889.5  4686.00   \n",
              "\n",
              "           max  \n",
              "year            \n",
              "1999  725192.0  \n",
              "2000  710760.0  \n",
              "2001  700142.0  \n",
              "2002  696947.0  \n",
              "2003  685089.0  \n",
              "2004  652486.0  \n",
              "2005  652091.0  \n",
              "2006  631636.0  \n",
              "2007  616067.0  \n",
              "2008  616828.0  \n",
              "2009  599413.0  \n",
              "2010  597689.0  \n",
              "2011  596577.0  \n",
              "2012  599711.0  \n",
              "2013  611105.0  \n",
              "2014  614348.0  \n",
              "2015  633842.0  \n",
              "2016  635260.0  "
            ]
          },
          "metadata": {
            "tags": []
          },
          "execution_count": 130
        }
      ]
    },
    {
      "cell_type": "markdown",
      "metadata": {
        "id": "EgPv8bFuKBMz",
        "colab_type": "text"
      },
      "source": [
        "* **We visualize it by line plot, the lineplot belows shows that Number of death is going down from year 1999 to 2009 and \n",
        "went up from 2009 to 2016. **"
      ]
    },
    {
      "cell_type": "code",
      "metadata": {
        "id": "zhBfXD-sRVyV",
        "colab_type": "code",
        "outputId": "4b137c86-75a4-46fc-a456-f0e4174c479f",
        "colab": {
          "base_uri": "https://localhost:8080/",
          "height": 313
        }
      },
      "source": [
        "plt.plot(grpby_yr_death.mean())\n",
        "plt.ylabel('Number of Deaths')\n",
        "plt.xlabel('Year')\n",
        "plt.title('NUMBER OF DEATHS IN EACH YEAR')"
      ],
      "execution_count": 131,
      "outputs": [
        {
          "output_type": "execute_result",
          "data": {
            "text/plain": [
              "Text(0.5, 1.0, 'NUMBER OF DEATHS IN EACH YEAR')"
            ]
          },
          "metadata": {
            "tags": []
          },
          "execution_count": 131
        },
        {
          "output_type": "display_data",
          "data": {
            "image/png": "[encoded data removed]",
            "text/plain": [
              "<Figure size 432x288 with 1 Axes>"
            ]
          },
          "metadata": {
            "tags": []
          }
        }
      ]
    },
    {
      "cell_type": "markdown",
      "metadata": {
        "id": "QMhUEVYqKDLZ",
        "colab_type": "text"
      },
      "source": [
        "* **Shows in the bar visualization that the highest death recorded is in year 2016.\n",
        "The lowest death recorded is 2009. **"
      ]
    },
    {
      "cell_type": "code",
      "metadata": {
        "id": "dl-B0vkWRVs2",
        "colab_type": "code",
        "outputId": "dad6b4ad-00af-4b7e-937a-29075c96eb26",
        "colab": {
          "base_uri": "https://localhost:8080/",
          "height": 383
        }
      },
      "source": [
        "grpby_yr_death.mean().sort_values().plot(kind='bar', figsize=[15,5])\n",
        "plt.ylabel('Number of Deaths')\n",
        "plt.ylim([7000,9000])\n",
        "plt.xlabel('Year')\n",
        "plt.title('AVERAGE DEATHS IN EACH YEAR')"
      ],
      "execution_count": 132,
      "outputs": [
        {
          "output_type": "execute_result",
          "data": {
            "text/plain": [
              "Text(0.5, 1.0, 'AVERAGE DEATHS IN EACH YEAR')"
            ]
          },
          "metadata": {
            "tags": []
          },
          "execution_count": 132
        },
        {
          "output_type": "display_data",
          "data": {
            "image/png": "[encoded data removed]",
            "text/plain": [
              "<Figure size 1080x360 with 1 Axes>"
            ]
          },
          "metadata": {
            "tags": []
          }
        }
      ]
    },
    {
      "cell_type": "markdown",
      "metadata": {
        "id": "Y9_yBGWyv1JS",
        "colab_type": "text"
      },
      "source": [
        "## What State has the highest Death?"
      ]
    },
    {
      "cell_type": "markdown",
      "metadata": {
        "id": "8lsuo8SsCq2s",
        "colab_type": "text"
      },
      "source": [
        "\n",
        "\n",
        "\n",
        "*  **In the bar visualization, it shows unusual value United states which is not a state. So we have to remove it.**\n",
        "\n"
      ]
    },
    {
      "cell_type": "code",
      "metadata": {
        "id": "onTbDhWawj6U",
        "colab_type": "code",
        "outputId": "3e7adde2-fff2-45fb-cbc5-86be460ebe58",
        "colab": {
          "base_uri": "https://localhost:8080/",
          "height": 444
        }
      },
      "source": [
        "grp_dis_death = df_diseases.groupby('state').deaths\n",
        "grp_dis_death.mean().plot(kind='bar', figsize=[15,5])\n",
        "plt.ylabel('Number of Deaths')"
      ],
      "execution_count": 133,
      "outputs": [
        {
          "output_type": "execute_result",
          "data": {
            "text/plain": [
              "Text(0, 0.5, 'Number of Deaths')"
            ]
          },
          "metadata": {
            "tags": []
          },
          "execution_count": 133
        },
        {
          "output_type": "display_data",
          "data": {
            "image/png": "[encoded data removed]",
            "text/plain": [
              "<Figure size 1080x360 with 1 Axes>"
            ]
          },
          "metadata": {
            "tags": []
          }
        }
      ]
    },
    {
      "cell_type": "markdown",
      "metadata": {
        "id": "qxruc3CV-_bM",
        "colab_type": "text"
      },
      "source": [
        "\n",
        "\n",
        "*   **Remove the row United states and visualize it. We can see now that the highest death cause by diseases from 1999 to 2016 is California. The least death is in Alaska. We can say that alaska is Healthier State than California but we compare first the population because we are talking about the number of death. We can see that mean population from 1999-to 2015 of California is\n",
        "34 million is way  above 400 thousand of Alaska ave population. So it is not reliable.**\n",
        "\n",
        "\n"
      ]
    },
    {
      "cell_type": "code",
      "metadata": {
        "id": "bvf3Uges2_le",
        "colab_type": "code",
        "outputId": "bdd96121-98a8-4108-b2c5-fa8be4ed984d",
        "colab": {
          "base_uri": "https://localhost:8080/",
          "height": 140
        }
      },
      "source": [
        "#See average population from 1999 to 2016\n",
        "df_diseases.groupby('state').population.mean().head()"
      ],
      "execution_count": 134,
      "outputs": [
        {
          "output_type": "execute_result",
          "data": {
            "text/plain": [
              "state\n",
              "Alabama       4.983487e+06\n",
              "Alaska        3.984086e+05\n",
              "Arizona       6.427485e+06\n",
              "Arkansas      3.192074e+06\n",
              "California    3.444283e+07\n",
              "Name: population, dtype: float64"
            ]
          },
          "metadata": {
            "tags": []
          },
          "execution_count": 134
        }
      ]
    },
    {
      "cell_type": "code",
      "metadata": {
        "id": "-Qe6O6XmzFoV",
        "colab_type": "code",
        "outputId": "9ff3f266-06f7-4427-8b56-24d08108068f",
        "colab": {
          "base_uri": "https://localhost:8080/",
          "height": 444
        }
      },
      "source": [
        "df_states = df_diseases[df_diseases.state != 'United States']\n",
        "grp_state_death = df_states.groupby('state').deaths\n",
        "grp_state_death.sum().sort_values().plot(kind='bar', figsize=[15,5])\n",
        "plt.ylabel('Number of Deaths')"
      ],
      "execution_count": 135,
      "outputs": [
        {
          "output_type": "execute_result",
          "data": {
            "text/plain": [
              "Text(0, 0.5, 'Number of Deaths')"
            ]
          },
          "metadata": {
            "tags": []
          },
          "execution_count": 135
        },
        {
          "output_type": "display_data",
          "data": {
            "image/png": "[encoded data removed]",
            "text/plain": [
              "<Figure size 1080x360 with 1 Axes>"
            ]
          },
          "metadata": {
            "tags": []
          }
        }
      ]
    },
    {
      "cell_type": "markdown",
      "metadata": {
        "id": "jbZTfEbPuH6Y",
        "colab_type": "text"
      },
      "source": [
        "## Find the number of deaths per disease in all US State?\n"
      ]
    },
    {
      "cell_type": "markdown",
      "metadata": {
        "id": "1ok_GyL7uHto",
        "colab_type": "text"
      },
      "source": [
        "* **It will be a lot of work when looking for death per disease one by one so we make a function to find the number of death per disease in all US State.**"
      ]
    },
    {
      "cell_type": "code",
      "metadata": {
        "id": "tjHQ99lIuHUX",
        "colab_type": "code",
        "colab": {}
      },
      "source": [
        "def dis_per_states(x):\n",
        "    for n in df_states['cause_name'].unique():\n",
        "        \n",
        "        if n == x:\n",
        "            df_dis= df_states[df_states['cause_name'] == x]\n",
        "    \n",
        "            return df_dis.groupby('state').deaths.mean().sort_values().plot(kind= 'bar', figsize=[15,5], color='green')\n",
        "    "
      ],
      "execution_count": 0,
      "outputs": []
    },
    {
      "cell_type": "markdown",
      "metadata": {
        "id": "szcv_LNBKidf",
        "colab_type": "text"
      },
      "source": [
        "* **Heart Disease is number 1 killer in California **"
      ]
    },
    {
      "cell_type": "code",
      "metadata": {
        "id": "o9ptfHxQvUp_",
        "colab_type": "code",
        "outputId": "68b15e37-b552-4158-d566-acdd7a75a0ad",
        "colab": {
          "base_uri": "https://localhost:8080/",
          "height": 444
        }
      },
      "source": [
        "dis_per_states('Heart disease')"
      ],
      "execution_count": 137,
      "outputs": [
        {
          "output_type": "execute_result",
          "data": {
            "text/plain": [
              "<matplotlib.axes._subplots.AxesSubplot at 0x7f1bc2cf4e80>"
            ]
          },
          "metadata": {
            "tags": []
          },
          "execution_count": 137
        },
        {
          "output_type": "display_data",
          "data": {
            "image/png": "[encoded data removed]",
            "text/plain": [
              "<Figure size 1080x360 with 1 Axes>"
            ]
          },
          "metadata": {
            "tags": []
          }
        }
      ]
    },
    {
      "cell_type": "markdown",
      "metadata": {
        "id": "K7BGz2J4KkVX",
        "colab_type": "text"
      },
      "source": [
        "* ** **"
      ]
    },
    {
      "cell_type": "markdown",
      "metadata": {
        "id": "o4ZM3nu4QAcE",
        "colab_type": "text"
      },
      "source": [
        ""
      ]
    },
    {
      "cell_type": "markdown",
      "metadata": {
        "colab_type": "text",
        "id": "wyLGp6NYQFK-"
      },
      "source": [
        "* **Kidney Disease is number 1 killer in Texas **"
      ]
    },
    {
      "cell_type": "code",
      "metadata": {
        "id": "2DXTTroDGzcL",
        "colab_type": "code",
        "outputId": "03f58944-3dea-454a-9bad-dbf0de646f07",
        "colab": {
          "base_uri": "https://localhost:8080/",
          "height": 444
        }
      },
      "source": [
        "dis_per_states('Kidney disease')"
      ],
      "execution_count": 138,
      "outputs": [
        {
          "output_type": "execute_result",
          "data": {
            "text/plain": [
              "<matplotlib.axes._subplots.AxesSubplot at 0x7f1bc2bb4a90>"
            ]
          },
          "metadata": {
            "tags": []
          },
          "execution_count": 138
        },
        {
          "output_type": "display_data",
          "data": {
            "image/png": "[encoded data removed]",
            "text/plain": [
              "<Figure size 1080x360 with 1 Axes>"
            ]
          },
          "metadata": {
            "tags": []
          }
        }
      ]
    },
    {
      "cell_type": "code",
      "metadata": {
        "id": "hULWpCNC8rIz",
        "colab_type": "code",
        "outputId": "8e48e198-76b4-46bb-af6d-d23b4a1360e2",
        "colab": {
          "base_uri": "https://localhost:8080/",
          "height": 444
        }
      },
      "source": [
        "dis_per_states(\"Stroke\")"
      ],
      "execution_count": 139,
      "outputs": [
        {
          "output_type": "execute_result",
          "data": {
            "text/plain": [
              "<matplotlib.axes._subplots.AxesSubplot at 0x7f1bc2a82da0>"
            ]
          },
          "metadata": {
            "tags": []
          },
          "execution_count": 139
        },
        {
          "output_type": "display_data",
          "data": {
            "image/png": "[encoded data removed]",
            "text/plain": [
              "<Figure size 1080x360 with 1 Axes>"
            ]
          },
          "metadata": {
            "tags": []
          }
        }
      ]
    },
    {
      "cell_type": "markdown",
      "metadata": {
        "id": "VZkwWMv9t8E_",
        "colab_type": "text"
      },
      "source": [
        "**FUTURE QUESTION:**\n",
        "### What are the underlying cause and reasons why in other State got the highest death per particular disease?"
      ]
    },
    {
      "cell_type": "markdown",
      "metadata": {
        "id": "nOCIOM817H73",
        "colab_type": "text"
      },
      "source": [
        "\n",
        "\n",
        "---\n",
        "\n"
      ]
    }
  ]
}